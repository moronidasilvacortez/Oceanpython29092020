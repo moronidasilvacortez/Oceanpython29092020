{
  "nbformat": 4,
  "nbformat_minor": 0,
  "metadata": {
    "colab": {
      "name": "Oceanpython29092020.ipynb",
      "provenance": [],
      "authorship_tag": "ABX9TyPuf9KqKHKis4pyQBY9K6Yt",
      "include_colab_link": true
    },
    "kernelspec": {
      "name": "python3",
      "display_name": "Python 3"
    }
  },
  "cells": [
    {
      "cell_type": "markdown",
      "metadata": {
        "id": "view-in-github",
        "colab_type": "text"
      },
      "source": [
        "<a href=\"https://colab.research.google.com/github/moronii/Oceanpython29092020/blob/master/Oceanpython29092020.ipynb\" target=\"_parent\"><img src=\"https://colab.research.google.com/assets/colab-badge.svg\" alt=\"Open In Colab\"/></a>"
      ]
    },
    {
      "cell_type": "code",
      "metadata": {
        "id": "UenVqgdi3S1C",
        "outputId": "33b5ec10-a08a-4021-e034-b2a137cbbd18",
        "colab": {
          "base_uri": "https://localhost:8080/",
          "height": 34
        }
      },
      "source": [
        "administrador = True  #boolean - booleano - boll\n",
        "print(administrador)"
      ],
      "execution_count": 2,
      "outputs": [
        {
          "output_type": "stream",
          "text": [
            "True\n"
          ],
          "name": "stdout"
        }
      ]
    },
    {
      "cell_type": "code",
      "metadata": {
        "id": "0iGWEpdR5qq9",
        "outputId": "6047bee2-918a-4bf0-d016-3af793c432bc",
        "colab": {
          "base_uri": "https://localhost:8080/",
          "height": 51
        }
      },
      "source": [
        "#COMPARACAO\n",
        "\n",
        "comparacao_igual = ( 1 == 1)\n",
        "print ( comparacao_igual)\n",
        "print ( 1 == 1)"
      ],
      "execution_count": 3,
      "outputs": [
        {
          "output_type": "stream",
          "text": [
            "True\n",
            "True\n"
          ],
          "name": "stdout"
        }
      ]
    },
    {
      "cell_type": "code",
      "metadata": {
        "id": "yyf7r7r557jc",
        "outputId": "f91970a3-1a88-4209-8221-8cd3f546ec6e",
        "colab": {
          "base_uri": "https://localhost:8080/",
          "height": 34
        }
      },
      "source": [
        "#comparacao diferente\n",
        "comparacao_diferente = 1 != 1\n",
        "print( comparacao_diferente)"
      ],
      "execution_count": 4,
      "outputs": [
        {
          "output_type": "stream",
          "text": [
            "False\n"
          ],
          "name": "stdout"
        }
      ]
    },
    {
      "cell_type": "code",
      "metadata": {
        "id": "i6TloO5G6LiQ"
      },
      "source": [
        "print (1 < 2 ) #false\n",
        "print (1 > 0) #true\n",
        "print ( 1 > 2 ) \n",
        "print ( 1 >= 1)\n",
        "print (5 <= 5)"
      ],
      "execution_count": null,
      "outputs": []
    },
    {
      "cell_type": "code",
      "metadata": {
        "id": "aqrplGsB8l9R",
        "outputId": "16263a6e-37ee-4694-cab5-37294358d98f",
        "colab": {
          "base_uri": "https://localhost:8080/",
          "height": 68
        }
      },
      "source": [
        "#atividade\n",
        "print ( 1 == 1 )  #true\n",
        "print ( 4 >= 1) #true\n",
        "print ( 2 >= 3) #false\n",
        "\n",
        "\n"
      ],
      "execution_count": 6,
      "outputs": [
        {
          "output_type": "stream",
          "text": [
            "True\n",
            "True\n",
            "False\n"
          ],
          "name": "stdout"
        }
      ]
    },
    {
      "cell_type": "code",
      "metadata": {
        "id": "pzOiys9S9sj0",
        "outputId": "a38281a6-ce47-477b-8972-32bdea1771ab",
        "colab": {
          "base_uri": "https://localhost:8080/",
          "height": 102
        }
      },
      "source": [
        "#operacao de comparacao an,or, not \n",
        "#and : todos os lados precisam ser true verdade para que o resultado seja true \n",
        "#NOT : iveste o operador booleano , ou seja false vira true e true vira false \n",
        "\n",
        "print ( True and False)   #TRUE\n",
        "print (True and False ) #false\n",
        "print ( False and False) #false\n",
        "print ( not(False and True))  #true\n",
        "print (not (False and False )) #true "
      ],
      "execution_count": 8,
      "outputs": [
        {
          "output_type": "stream",
          "text": [
            "False\n",
            "False\n",
            "False\n",
            "True\n",
            "True\n"
          ],
          "name": "stdout"
        }
      ]
    }
  ]
}