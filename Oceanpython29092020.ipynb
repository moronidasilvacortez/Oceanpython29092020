{
  "nbformat": 4,
  "nbformat_minor": 0,
  "metadata": {
    "colab": {
      "name": "Oceanpython29092020.ipynb",
      "provenance": [],
      "authorship_tag": "ABX9TyPmFUsAMAHaVbrLmmYCnZAJ",
      "include_colab_link": true
    },
    "kernelspec": {
      "name": "python3",
      "display_name": "Python 3"
    }
  },
  "cells": [
    {
      "cell_type": "markdown",
      "metadata": {
        "id": "view-in-github",
        "colab_type": "text"
      },
      "source": [
        "<a href=\"https://colab.research.google.com/github/moronii/Oceanpython29092020/blob/master/Oceanpython29092020.ipynb\" target=\"_parent\"><img src=\"https://colab.research.google.com/assets/colab-badge.svg\" alt=\"Open In Colab\"/></a>"
      ]
    },
    {
      "cell_type": "code",
      "metadata": {
        "id": "UenVqgdi3S1C",
        "outputId": "33b5ec10-a08a-4021-e034-b2a137cbbd18",
        "colab": {
          "base_uri": "https://localhost:8080/",
          "height": 34
        }
      },
      "source": [
        "administrador = True  #boolean - booleano - boll\n",
        "print(administrador)"
      ],
      "execution_count": null,
      "outputs": [
        {
          "output_type": "stream",
          "text": [
            "True\n"
          ],
          "name": "stdout"
        }
      ]
    },
    {
      "cell_type": "code",
      "metadata": {
        "id": "0iGWEpdR5qq9",
        "outputId": "6047bee2-918a-4bf0-d016-3af793c432bc",
        "colab": {
          "base_uri": "https://localhost:8080/",
          "height": 51
        }
      },
      "source": [
        "#COMPARACAO\n",
        "\n",
        "comparacao_igual = ( 1 == 1)\n",
        "print ( comparacao_igual)\n",
        "print ( 1 == 1)"
      ],
      "execution_count": null,
      "outputs": [
        {
          "output_type": "stream",
          "text": [
            "True\n",
            "True\n"
          ],
          "name": "stdout"
        }
      ]
    },
    {
      "cell_type": "code",
      "metadata": {
        "id": "yyf7r7r557jc",
        "outputId": "f91970a3-1a88-4209-8221-8cd3f546ec6e",
        "colab": {
          "base_uri": "https://localhost:8080/",
          "height": 34
        }
      },
      "source": [
        "#comparacao diferente\n",
        "comparacao_diferente = 1 != 1\n",
        "print( comparacao_diferente)"
      ],
      "execution_count": null,
      "outputs": [
        {
          "output_type": "stream",
          "text": [
            "False\n"
          ],
          "name": "stdout"
        }
      ]
    },
    {
      "cell_type": "code",
      "metadata": {
        "id": "i6TloO5G6LiQ"
      },
      "source": [
        "print (1 < 2 ) #false\n",
        "print (1 > 0) #true\n",
        "print ( 1 > 2 ) \n",
        "print ( 1 >= 1)\n",
        "print (5 <= 5)"
      ],
      "execution_count": null,
      "outputs": []
    },
    {
      "cell_type": "code",
      "metadata": {
        "id": "aqrplGsB8l9R",
        "outputId": "16263a6e-37ee-4694-cab5-37294358d98f",
        "colab": {
          "base_uri": "https://localhost:8080/",
          "height": 68
        }
      },
      "source": [
        "#atividade\n",
        "print ( 1 == 1 )  #true\n",
        "print ( 4 >= 1) #true\n",
        "print ( 2 >= 3) #false\n",
        "\n",
        "\n"
      ],
      "execution_count": null,
      "outputs": [
        {
          "output_type": "stream",
          "text": [
            "True\n",
            "True\n",
            "False\n"
          ],
          "name": "stdout"
        }
      ]
    },
    {
      "cell_type": "code",
      "metadata": {
        "id": "pzOiys9S9sj0",
        "outputId": "2164692b-80ff-4337-c774-4ad6b0af1c7b",
        "colab": {
          "base_uri": "https://localhost:8080/",
          "height": 102
        }
      },
      "source": [
        "#operacao de comparacao an,or, not \n",
        "#and : todos os lados precisam ser true verdade para que o resultado seja true \n",
        "#NOT : iveste o operador booleano , ou seja false vira true e true vira false \n",
        "\n",
        "print ( True and False)   #TRUE\n",
        "print (True and False ) #false\n",
        "print ( False and False) #false\n",
        "print ( not (False and True))  #true\n",
        "print (not (False and False )) #true "
      ],
      "execution_count": null,
      "outputs": [
        {
          "output_type": "stream",
          "text": [
            "False\n",
            "False\n",
            "False\n",
            "True\n",
            "True\n"
          ],
          "name": "stdout"
        }
      ]
    },
    {
      "cell_type": "code",
      "metadata": {
        "id": "WXWxCdqw_fdB",
        "outputId": "cc9c58ce-9627-44e4-db2d-6687e01073ae",
        "colab": {
          "base_uri": "https://localhost:8080/",
          "height": 102
        }
      },
      "source": [
        "#or prrecisa que apenas um dos lados seja true \n",
        "\n",
        "print ( True or True)  #true\n",
        "print ( True or False) #true \n",
        "print ( False or False) #false\n",
        "print ( not (False or True )) #false\n",
        "print ( not False or True ) #true "
      ],
      "execution_count": null,
      "outputs": [
        {
          "output_type": "stream",
          "text": [
            "True\n",
            "True\n",
            "False\n",
            "False\n",
            "True\n"
          ],
          "name": "stdout"
        }
      ]
    },
    {
      "cell_type": "code",
      "metadata": {
        "id": "J8oHh_JdDCIK"
      },
      "source": [
        "#ORDEM LOGICA BOOLEANA \n",
        "1. resolvemos o 'not '\n",
        "2. depois resolvemos o 'and'\n",
        "3. por ultimo resolvemos o 'or' "
      ],
      "execution_count": null,
      "outputs": []
    },
    {
      "cell_type": "code",
      "metadata": {
        "id": "4sTyQqu0IG0i",
        "outputId": "75a34004-f26d-4300-f166-0991b1b50799",
        "colab": {
          "base_uri": "https://localhost:8080/",
          "height": 129
        }
      },
      "source": [
        "# if, elif e else\n",
        "\n",
        "# True == True -> True\n",
        "# False == True -> False\n",
        "# Para entrarmos no bloco do if, a condição precisa ser True\n",
        "# If representa \"se\", ou seja, \"se\" algo for verdadeiro\n",
        "# Else representa \"se não - ou - caso contrário\", ou seja, se a condição do if for false, o else será ativado\n",
        "\n",
        "admin = True\n",
        "\n",
        "if admin == True:\n",
        "  print(\"Acesso admin liberado.\")\n",
        "else:\n",
        "  print(\"Acesso bloqueado.\")"
      ],
      "execution_count": null,
      "outputs": [
        {
          "output_type": "error",
          "ename": "SyntaxError",
          "evalue": "ignored",
          "traceback": [
            "\u001b[0;36m  File \u001b[0;32m\"<ipython-input-11-f4aa7f09a2a7>\"\u001b[0;36m, line \u001b[0;32m3\u001b[0m\n\u001b[0;31m    elif False :\u001b[0m\n\u001b[0m       ^\u001b[0m\n\u001b[0;31mSyntaxError\u001b[0m\u001b[0;31m:\u001b[0m invalid syntax\n"
          ]
        }
      ]
    },
    {
      "cell_type": "code",
      "metadata": {
        "id": "U2vel-FJRX9i"
      },
      "source": [
        "#elif representa um: caso contrário, se\n",
        "\n",
        "numero = 5\n",
        "\n",
        "if numero > 5:\n",
        "  print(f\"O número {numero} é maior do que 5.\")\n",
        "elif numero > 0:\n",
        "  print(f\"O número {numero} é maior do que 0 e também é menor ou igual a 5.\")\n",
        "else:\n",
        "  print(f\"O número {numero} é menor ou igual a 0.\")"
      ],
      "execution_count": null,
      "outputs": []
    },
    {
      "cell_type": "code",
      "metadata": {
        "id": "_rr5TLAtEl4S",
        "outputId": "a5306c50-cf8f-4640-cf27-a45bc762d2ca",
        "colab": {
          "base_uri": "https://localhost:8080/",
          "height": 102
        }
      },
      "source": [
        "\n",
        "print((20 - 10) > 15) # False\n",
        "print((10 + 17) == 3 ** 16) # False\n",
        "print(1 ** 2 <= -1) # False\n",
        "print(40 * 4 >= -4) # True\n",
        "print(100 != 10 ** 2) # False"
      ],
      "execution_count": null,
      "outputs": [
        {
          "output_type": "stream",
          "text": [
            "False\n",
            "False\n",
            "False\n",
            "True\n",
            "False\n"
          ],
          "name": "stdout"
        }
      ]
    },
    {
      "cell_type": "code",
      "metadata": {
        "id": "skwJMLwMM341",
        "outputId": "308d8358-6b08-4b4b-a9aa-8a9c88c988b4",
        "colab": {
          "base_uri": "https://localhost:8080/",
          "height": 85
        }
      },
      "source": [
        "print(\"Rei\" == \"Rei Arthur\") # False\n",
        "print(\"Rei\" != \"Rei Arthur\") # True\n",
        "print(1 == \"1\") # False, pois o tipo é diferente, um é inteiro e outro é string\n",
        "print(\"1\" == \"1\") # True"
      ],
      "execution_count": null,
      "outputs": [
        {
          "output_type": "stream",
          "text": [
            "False\n",
            "True\n",
            "False\n",
            "True\n"
          ],
          "name": "stdout"
        }
      ]
    },
    {
      "cell_type": "code",
      "metadata": {
        "id": "wlTliFIMNAFc",
        "outputId": "1fa1a0b5-c3f8-4dfb-cd67-1159500f6d8f",
        "colab": {
          "base_uri": "https://localhost:8080/",
          "height": 102
        }
      },
      "source": [
        "# Operações de comparação - and - &&\n",
        "\n",
        "# And (&&): Todos os lados precisam ser True para que o resultado seja True\n",
        "# Not (!): Inverte o operador booleano, ou seja, False vira True e True vira False\n",
        "\n",
        "print(True and True) # True\n",
        "print(True and False) # False\n",
        "print(False and False) # False\n",
        "print(not (True and False)) # True\n",
        "print(not True and False) # False"
      ],
      "execution_count": null,
      "outputs": [
        {
          "output_type": "stream",
          "text": [
            "True\n",
            "False\n",
            "False\n",
            "True\n",
            "False\n"
          ],
          "name": "stdout"
        }
      ]
    },
    {
      "cell_type": "code",
      "metadata": {
        "id": "MePbLWAeNJTi",
        "outputId": "88a359f5-6338-40aa-ca7c-2af1aa6738cd",
        "colab": {
          "base_uri": "https://localhost:8080/",
          "height": 68
        }
      },
      "source": [
        "#EXERCICIO\n",
        "#Escreva um programa que receba uma string digitada pelo usuário e caso a string seja igual a “medieval”, exiba no console: “espada”;\n",
        "\n",
        "#Caso contrário, se a string for igual a “futurista”, exiba no console: “sabre de luz”;\n",
        "\n",
        "#Caso contrário, exiba no console: “Tente novamente.”.\n",
        "\n",
        "escolha_usuario = input(\"Por acaso você é *futurista* ou tá mais pra *medieval*?\\n\").lower().strip()\n",
        "\n",
        "if \"medieval\" in escolha_usuario:\n",
        "  print(\"Você recebeu uma espada!\")\n",
        "elif \"futur\" in escolha_usuario:\n",
        "  print(\"Você recebeu um sabre de luz!\")\n",
        "else:\n",
        "  print(\"Tente novamente...\")\n",
        "\n"
      ],
      "execution_count": null,
      "outputs": [
        {
          "output_type": "stream",
          "text": [
            "Por acaso você é *futurista* ou tá mais pra *medieval*?\n",
            "futurista\n",
            "Você recebeu um sabre de luz!\n"
          ],
          "name": "stdout"
        }
      ]
    },
    {
      "cell_type": "code",
      "metadata": {
        "id": "4PA98Wu0SQE1",
        "outputId": "1626ed37-5732-4637-a371-cd353ad630b6",
        "colab": {
          "base_uri": "https://localhost:8080/",
          "height": 129
        }
      },
      "source": [
        "#funcao\n",
        "def exibir_numero():\n",
        "\n",
        "numero == 1 \n",
        "\n",
        "print ( numero)\n",
        "\n",
        "exibir_numero()\n"
      ],
      "execution_count": null,
      "outputs": [
        {
          "output_type": "error",
          "ename": "IndentationError",
          "evalue": "ignored",
          "traceback": [
            "\u001b[0;36m  File \u001b[0;32m\"<ipython-input-27-60736a47f957>\"\u001b[0;36m, line \u001b[0;32m4\u001b[0m\n\u001b[0;31m    numero == 1\u001b[0m\n\u001b[0m         ^\u001b[0m\n\u001b[0;31mIndentationError\u001b[0m\u001b[0;31m:\u001b[0m expected an indented block\n"
          ]
        }
      ]
    },
    {
      "cell_type": "code",
      "metadata": {
        "id": "z5YXc0zwYuAs",
        "outputId": "9f612e42-c0c0-4cdd-990a-9e4d3d699839",
        "colab": {
          "base_uri": "https://localhost:8080/",
          "height": 51
        }
      },
      "source": [
        "\n",
        "\n",
        "# Retorno das funções\n",
        "\n",
        "# Vamos construir uma calculadora\n",
        "\n",
        "def somar(a, b):\n",
        "  resultado_soma = a + b\n",
        "  return resultado_soma\n",
        "\n",
        "resultado1 = somar(15, 10)\n",
        "print(resultado1)\n",
        "\n",
        "resultado2 = somar(150, 20)\n",
        "resultado3 = somar(50, 30)\n",
        "resultado4 = somar(resultado2, resultado3)\n",
        "print(resultado4)\n"
      ],
      "execution_count": 40,
      "outputs": [
        {
          "output_type": "stream",
          "text": [
            "25\n",
            "250\n"
          ],
          "name": "stdout"
        }
      ]
    },
    {
      "cell_type": "code",
      "metadata": {
        "id": "NIvZM3zZfWr_",
        "outputId": "a1006eaa-60e1-455c-ffd4-80b64fcc51f5",
        "colab": {
          "base_uri": "https://localhost:8080/",
          "height": 85
        }
      },
      "source": [
        "def subtrair(a, b):\n",
        "  return a - b\n",
        "\n",
        "numero1 = 15\n",
        "numero2 = 10\n",
        "resultado1 = subtrair(numero1, numero2)\n",
        "print(resultado1)\n",
        "\n",
        "# Tenho sempre dois escopos: UM É DENTRO DA FUNÇÃO; O OUTRO É FORA DA FUNÇÃO, PARA QUEM ESTÁ CHAMANDO-A\n",
        "\n",
        "def teste():\n",
        "  print(\"Olá, sou um teste\")\n",
        "\n",
        "resultado2 = teste()\n",
        "print(resultado2)\n",
        "5"
      ],
      "execution_count": 41,
      "outputs": [
        {
          "output_type": "stream",
          "text": [
            "5\n",
            "Olá, sou um teste\n",
            "None\n"
          ],
          "name": "stdout"
        },
        {
          "output_type": "execute_result",
          "data": {
            "text/plain": [
              "5"
            ]
          },
          "metadata": {
            "tags": []
          },
          "execution_count": 41
        }
      ]
    },
    {
      "cell_type": "code",
      "metadata": {
        "id": "P7sUfD_ZfmE7",
        "outputId": "589169cc-5839-4c3b-e747-d9741c09b8be",
        "colab": {
          "base_uri": "https://localhost:8080/",
          "height": 119
        }
      },
      "source": [
        "def getNumeroDigitado():\n",
        "  return int(input(\"Digite um número:\\n\"))\n",
        "\n",
        "numero1 = getNumeroDigitado()\n",
        "numero2 = getNumeroDigitado()\n",
        "\n",
        "print(f\"A soma dos números digitados é: {numero1 + numero2}.\")\n",
        "\n",
        "def getNome():\n",
        "  return \"moroni\"\n",
        "\n",
        "print(f\"Olá, sou o {getNome()}.\")\n",
        "\n",
        "def isAdmin():\n",
        "  return False"
      ],
      "execution_count": 43,
      "outputs": [
        {
          "output_type": "stream",
          "text": [
            "Digite um número:\n",
            "9\n",
            "Digite um número:\n",
            "90\n",
            "A soma dos números digitados é: 99.\n",
            "Olá, sou o moroni.\n"
          ],
          "name": "stdout"
        }
      ]
    },
    {
      "cell_type": "code",
      "metadata": {
        "id": "AobWQFo0cxjg"
      },
      "source": [
        "#crie funcao que receba um numero como parametro, aplique esse numero na formula abaixo e exiba o resultado no console\n",
        "\n",
        "def calculadoranumero(numero):\n",
        "  resultado = numero * numero + numero %10\n",
        "  return resultado\n",
        "  resultado1 = calculadoranumero (23)\n",
        "  resultado2 = calculadoranumero (30)\n",
        "\n",
        "  print (f\"resultadodo1\")\n"
      ],
      "execution_count": 47,
      "outputs": []
    }
  ]
}